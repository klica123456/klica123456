{
 "cells": [
  {
   "cell_type": "code",
   "execution_count": null,
   "metadata": {},
   "outputs": [],
   "source": []
  },
  {
   "cell_type": "markdown",
   "metadata": {},
   "source": [
    "- 서로소 집합\n",
    "  - 대표자 저장 (같은 그룹으로 묶기) Union(x, y) x가 속한 집합과 y가 속한 집합을 합치는 연산\n",
    "  - 각 요소가 내가 속한 그룹의 대표자를 어떻게 찾을지? Find-Set(x) x의 대표를 찾음\n",
    "  - make-set(x) x라는 집합을 만들어주는 것 - 초기화과정\n",
    "  \n",
    "\n"
   ]
  },
  {
   "cell_type": "code",
   "execution_count": null,
   "metadata": {},
   "outputs": [],
   "source": [
    "# p[x] => x의 부모\n",
    "# p[x] == x => x가 속한 집합의 대표가 x다.\n",
    "# p[x] != x => x가 속한 집합의 대표가 아니다.\n",
    "p = [0]*7\n",
    "\n",
    "# 1. 집합 초기화  - 집합을 만드는 과정\n",
    "\n",
    "def make_set(x):\n",
    "    # 집합을 처음 만들때는 집합에 속한 사람이 1명, 동시에 자기 자신이 대표\n",
    "    p[x] = x\n",
    "\n",
    "# 2. x가 속한 집합의 대표를 얻는 연산\n",
    "\n",
    "def find_set(x):\n",
    "    # 자기 자신의 부모가 자기 자신을 가르키고 있다면 자기 자신이 대표\n",
    "\n",
    "\n"
   ]
  }
 ],
 "metadata": {
  "language_info": {
   "name": "python"
  },
  "orig_nbformat": 4
 },
 "nbformat": 4,
 "nbformat_minor": 2
}
