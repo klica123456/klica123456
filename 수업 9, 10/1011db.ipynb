{
 "cells": [
  {
   "cell_type": "markdown",
   "metadata": {},
   "source": [
    "- N : 1 == COMMENT : ARTICLE\n",
    "\n",
    "- 외래키로 논리적인 관계연결\n",
    "\n",
    "- comment가 article에 대한 외래키가 필요\n",
    "\n",
    "- ForeignKey() - N : 1관계 설정 모델 필드\n",
    "\n",
    "- accounts는 인증과 관련 article은 게시판에 관련이 깊음 따라서 관련된 app에 관련 model 설정\n",
    "\n",
    "- 외래키는 참조하는 대상의 소문자를 외래키로 씀 왜냐면 명시적이지 않기 때문 누구의 외래키인지 헷갈림\n",
    "\n",
    "- 1번댓글이 어디 게시글에 있는지 article_id로 참조 or article.pk\n",
    "article_id는 물리적으로 만들어지지만 article.pk는 아님"
   ]
  }
 ],
 "metadata": {
  "language_info": {
   "name": "python"
  }
 },
 "nbformat": 4,
 "nbformat_minor": 2
}
