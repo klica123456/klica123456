{
 "cells": [
  {
   "cell_type": "markdown",
   "metadata": {},
   "source": [
    "2. 상황마다 좋은 걸 고르자(Greedy-탐욕)\n",
    "규칙을 찾는 것\n",
    "주의 사항 : 항상 좋은 것을 뽑아도,\n",
    "        최종 결과가 제일 좋다 = 보장되지 않는다.\n",
    "3. 하나의 큰 문제를 작은 문제로 나누어 부분적으로 해결하자\n",
    "    (Dynamic Programming)\n",
    "    - Memoization 기법을 활용\n",
    "    - 점화식(bottom-up), 재귀(top-down)\n",
    "4. (Divide and Couquer - 분할 정복) 큰 문제를 작은 문제로 쪼개서 해결하자\n",
    "5. (Backracking - 백트래킹) 전체 중, 가능성 없는 것을 빼고 보자\n",
    "    - 가지치기\n",
    "6. 이진검색\n",
    "  - Prametric Search\n",
    "    - lower bound\n",
    "    - upper bound\n",
    "    - 여러 개의 데이터 중 2가 처음 나온 시점\n",
    "    - 2~9사이의 데이터는 몇개인가?\n"
   ]
  },
  {
   "cell_type": "code",
   "execution_count": null,
   "metadata": {},
   "outputs": [],
   "source": [
    "arr = [1, 2, 1, 3, 2, 4, 3, 5, 3, 6]\n",
    "\n",
    "class TreeNode:\n",
    "    def __init__(self, value):\n",
    "        self.value = value\n",
    "        self.left = None\n",
    "        self.right = None\n",
    "\n",
    "    def insert(self, childNode):\n",
    "        #왼쪽 자식이 없을 경우\n",
    "        if not self.left:\n",
    "            self.left = childNode\n",
    "            return\n",
    "        #오른쪽 자식이 없을 경우\n",
    "        if not self.left:\n",
    "            self.right = childNode\n",
    "            return\n",
    "        \n",
    "        return\n",
    "\n",
    "nodes = [TreeNode(i) for i in range(1, 7)]"
   ]
  }
 ],
 "metadata": {
  "language_info": {
   "name": "python"
  },
  "orig_nbformat": 4
 },
 "nbformat": 4,
 "nbformat_minor": 2
}
