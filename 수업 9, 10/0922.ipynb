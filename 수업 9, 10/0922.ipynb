{
 "cells": [
  {
   "cell_type": "markdown",
   "metadata": {},
   "source": [
    "0. IDE를 적극적으로 활용해라\n",
    "- input.in 써서, 복사하지 말고 사용\n",
    "- 디버깅 툴 -> 적극적으로 써라\n",
    "  -> print로 다 디버깅 해야함 - 요즘 기업들은 자기들 프로그램쓰는데 디버깅 툴 제공 x\n",
    "  -> 적재적소에 print를 사용할 줄 알아야 함\n",
    "  -> 디버깅 툴을 활용해서 연습\n",
    "\n",
    "1. 문제를 봤을 때, 원하는 알고리즘을 선택\n",
    "1.1. 일단 완전 탐색으로 생각해봐라\n",
    "  -> N값을 반드시 확인해서, 시간복잡도 확인\n",
    "1.2. Backtracking하는 방법 생각\n",
    "1.3. 조금 더 어려운 알고리즘\n",
    "  - 그리디 (규칙 찾기)\n",
    "  - DP (두 번 계산하지 않기)\n",
    "  - Union-Find\n"
   ]
  }
 ],
 "metadata": {
  "language_info": {
   "name": "python"
  },
  "orig_nbformat": 4
 },
 "nbformat": 4,
 "nbformat_minor": 2
}
